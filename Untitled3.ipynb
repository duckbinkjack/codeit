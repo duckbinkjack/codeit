{
 "cells": [
  {
   "cell_type": "markdown",
   "metadata": {},
   "source": [
    "## Task 1: \n",
    "### Given an integer, perform the following conditional actions:\n",
    "#### Take only one integer from input\n",
    "#### If  is odd, print Weird\n",
    "#### If  is even, print Not Weird"
   ]
  },
  {
   "cell_type": "code",
   "execution_count": 1,
   "metadata": {},
   "outputs": [
    {
     "name": "stdout",
     "output_type": "stream",
     "text": [
      "Enter any number4\n",
      "Not weird\n"
     ]
    }
   ],
   "source": [
    "user_input = int(input(\"Enter any number\"))\n",
    "if user_input%2 == 0:\n",
    "    print(\"Not weird\")\n",
    "else:\n",
    "    print(\"Weird\")"
   ]
  },
  {
   "cell_type": "markdown",
   "metadata": {},
   "source": [
    "## Task 2: \n",
    "### Read two integers from input and print three lines where:\n",
    "\n",
    "#### The first line contains the sum of the two numbers.\n",
    "#### The second line contains the difference of the two numbers (first - second).\n",
    "#### The third line contains the product of the two numbers."
   ]
  },
  {
   "cell_type": "code",
   "execution_count": 8,
   "metadata": {},
   "outputs": [
    {
     "name": "stdout",
     "output_type": "stream",
     "text": [
      "Enter value of x 8\n",
      "Enter value of y 7\n",
      "15\n",
      "1\n",
      "56\n"
     ]
    }
   ],
   "source": [
    "x = int(input(\"Enter value of x \"))\n",
    "y = int(input(\"Enter value of y \"))\n",
    "print (x + y)\n",
    "print (x - y)\n",
    "print (x * y)"
   ]
  },
  {
   "cell_type": "markdown",
   "metadata": {},
   "source": [
    "## Task3:\n",
    "### Read an integer N . For all non-negative integers ,\n",
    "### print square of all numbers upto N.\n",
    "### Input Format\n",
    "#### Receive an integer N from user\n",
    "\n",
    "### Constraints:\n",
    "#### 0 < N < 20"
   ]
  },
  {
   "cell_type": "code",
   "execution_count": 6,
   "metadata": {},
   "outputs": [
    {
     "name": "stdout",
     "output_type": "stream",
     "text": [
      "Enter a number80\n",
      "Number out of range\n",
      "Enter a number2\n",
      "0\n",
      "1\n"
     ]
    }
   ],
   "source": [
    "while True:\n",
    "    num = int(input(\"Enter a number\"))\n",
    "    if 0 < num < 20:\n",
    "        for x in range(0,num):\n",
    "            print(x**2)\n",
    "        break\n",
    "    else:\n",
    "        print(\"Number out of range\")\n",
    "        continue"
   ]
  },
  {
   "cell_type": "markdown",
   "metadata": {},
   "source": [
    "#### We add a Leap Day on February 29, almost every four years. The leap day is an extra, or intercalary day and we add it to the shortest month of the year, February. \n",
    "#### In the Gregorian calendar three criteria must be taken into account to identify leap years:\n",
    "\n",
    "#### The year can be evenly divided by 4, is a leap year, unless:\n",
    "#### The year can be evenly divided by 100, it is NOT a leap year, unless:\n",
    "#### The year is also evenly divisible by 400. Then it is a leap year.\n",
    "#### This means that in the Gregorian calendar, the years 2000 and 2400 are leap years, while 1800, 1900, 2100, 2200, 2300 and 2500 are NOT leap years.\n",
    "\n",
    "#### Task 4: \n",
    "#### You are given the year, and you have to write a function to check if the year is leap or not."
   ]
  },
  {
   "cell_type": "code",
   "execution_count": 25,
   "metadata": {},
   "outputs": [],
   "source": [
    "def check_leap(year):\n",
    "    if (year%4 == 0 and year%100 != 0) or (year%400 == 0): \n",
    "        return True\n",
    "    else:\n",
    "        return False"
   ]
  },
  {
   "cell_type": "code",
   "execution_count": 26,
   "metadata": {},
   "outputs": [
    {
     "name": "stdout",
     "output_type": "stream",
     "text": [
      "Enter an year1600\n"
     ]
    },
    {
     "data": {
      "text/plain": [
       "True"
      ]
     },
     "execution_count": 26,
     "metadata": {},
     "output_type": "execute_result"
    }
   ],
   "source": [
    "year = int(input(\"Enter an year\"))\n",
    "check_leap(year)"
   ]
  },
  {
   "cell_type": "markdown",
   "metadata": {},
   "source": [
    "## You are given a string 's' and width 'w' . \n",
    "## Your task is to wrap the string into a paragraph of width\n",
    "## Sample input:\n",
    "## ABCDEFGHIJKLIMNOQRSTUVWXYZ\n",
    "## 4\n",
    "## Sample output:\n",
    "## ABCD\n",
    "## EFGH\n",
    "## IJKL\n",
    "## IMNO\n",
    "## QRST\n",
    "## UVWX\n",
    "## YZ"
   ]
  },
  {
   "cell_type": "code",
   "execution_count": 37,
   "metadata": {},
   "outputs": [],
   "source": [
    "def wrap_str(s,w):\n",
    "    i = 0\n",
    "    j = w\n",
    "    while j < len(s):\n",
    "        print(s[i:j])\n",
    "        i += w\n",
    "        j += w\n",
    "    print(s[i:])"
   ]
  },
  {
   "cell_type": "code",
   "execution_count": 41,
   "metadata": {},
   "outputs": [
    {
     "name": "stdout",
     "output_type": "stream",
     "text": [
      "fbihfhwevf\n",
      "hevhdvvchv\n",
      "dvhdvcdhvd\n",
      "hsdjhsdvjs\n",
      "hdvjshdvjs\n",
      "d\n"
     ]
    }
   ],
   "source": [
    "s='fbihfhwevfhevhdvvchvdvhdvcdhvdhsdjhsdvjshdvjshdvjsd'\n",
    "wrap_str(s,10)"
   ]
  },
  {
   "cell_type": "code",
   "execution_count": 42,
   "metadata": {},
   "outputs": [
    {
     "data": {
      "text/plain": [
       "'fbihfhwevfhevhdvvchvdvhdvcdhvdhsdjhsdvjshdvjshdvjsd'"
      ]
     },
     "execution_count": 42,
     "metadata": {},
     "output_type": "execute_result"
    }
   ],
   "source": [
    "s"
   ]
  },
  {
   "cell_type": "code",
   "execution_count": 44,
   "metadata": {},
   "outputs": [
    {
     "name": "stdout",
     "output_type": "stream",
     "text": [
      "fhwe\n"
     ]
    }
   ],
   "source": [
    "i = 0 + 4\n",
    "j = 4 + 4\n",
    "print(s[i:j])"
   ]
  },
  {
   "cell_type": "code",
   "execution_count": null,
   "metadata": {
    "collapsed": true
   },
   "outputs": [],
   "source": []
  }
 ],
 "metadata": {
  "kernelspec": {
   "display_name": "Python 3",
   "language": "python",
   "name": "python3"
  },
  "language_info": {
   "codemirror_mode": {
    "name": "ipython",
    "version": 3
   },
   "file_extension": ".py",
   "mimetype": "text/x-python",
   "name": "python",
   "nbconvert_exporter": "python",
   "pygments_lexer": "ipython3",
   "version": "3.5.4"
  }
 },
 "nbformat": 4,
 "nbformat_minor": 2
}
