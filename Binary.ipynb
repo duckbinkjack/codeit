{
 "cells": [
  {
   "cell_type": "code",
   "execution_count": 77,
   "metadata": {},
   "outputs": [],
   "source": [
    "def bin_to_int(x):\n",
    "    bin_list = []\n",
    "    bin_sum = 0\n",
    "    for c in x:\n",
    "        bin_list.append(c)\n",
    "    i = 0\n",
    "    while i < len(bin_list):\n",
    "        if bin_list[i] == '1' and i == 0:\n",
    "            bin_sum += 8\n",
    "        if bin_list[i] == '1' and i == 1:\n",
    "            bin_sum += 4\n",
    "        if bin_list[i] == '1' and i == 2:\n",
    "            bin_sum += 2\n",
    "        if bin_list[i] == '1' and i == 3:\n",
    "            bin_sum += 1\n",
    "        i += 1\n",
    "    check_div(bin_sum)    "
   ]
  },
  {
   "cell_type": "code",
   "execution_count": 78,
   "metadata": {
    "collapsed": true
   },
   "outputs": [],
   "source": [
    "def check_div(n):\n",
    "    list3 = []\n",
    "    if n%3 == 0:\n",
    "        print(n)\n",
    "    else:\n",
    "        pass\n",
    "    "
   ]
  },
  {
   "cell_type": "code",
   "execution_count": 79,
   "metadata": {
    "collapsed": true
   },
   "outputs": [],
   "source": [
    "def seperator(x):\n",
    "    new_list = x.split(',')\n",
    "    new_list1 = []\n",
    "    for c in new_list:\n",
    "        bin_to_int(c)"
   ]
  },
  {
   "cell_type": "code",
   "execution_count": 82,
   "metadata": {},
   "outputs": [
    {
     "name": "stdout",
     "output_type": "stream",
     "text": [
      "Enter two four digit binary number seperated by a comma1000,1001,1010,1111\n",
      "9\n",
      "15\n"
     ]
    }
   ],
   "source": [
    "x = input(\"Enter two four digit binary number seperated by a comma\")\n",
    "seperator(x)"
   ]
  },
  {
   "cell_type": "code",
   "execution_count": 45,
   "metadata": {},
   "outputs": [
    {
     "name": "stdout",
     "output_type": "stream",
     "text": [
      "['1000', '1100']\n"
     ]
    }
   ],
   "source": [
    "seperator('1000,1100')"
   ]
  },
  {
   "cell_type": "markdown",
   "metadata": {},
   "source": [
    "##   8    4    2    1   Binary indexing of the list\n",
    "##   0    1    2    3   Original indexing of the list\n",
    "## ['1', '0', '1', '0']"
   ]
  },
  {
   "cell_type": "code",
   "execution_count": 11,
   "metadata": {},
   "outputs": [
    {
     "name": "stdout",
     "output_type": "stream",
     "text": [
      "['1', '0', '1', '0']\n"
     ]
    }
   ],
   "source": [
    "bin_to_int('1010')"
   ]
  },
  {
   "cell_type": "code",
   "execution_count": null,
   "metadata": {
    "collapsed": true
   },
   "outputs": [],
   "source": []
  }
 ],
 "metadata": {
  "kernelspec": {
   "display_name": "Python 3",
   "language": "python",
   "name": "python3"
  },
  "language_info": {
   "codemirror_mode": {
    "name": "ipython",
    "version": 3
   },
   "file_extension": ".py",
   "mimetype": "text/x-python",
   "name": "python",
   "nbconvert_exporter": "python",
   "pygments_lexer": "ipython3",
   "version": "3.5.4"
  }
 },
 "nbformat": 4,
 "nbformat_minor": 2
}
