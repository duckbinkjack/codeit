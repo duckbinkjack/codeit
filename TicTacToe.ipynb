{
 "cells": [
  {
   "cell_type": "code",
   "execution_count": 99,
   "metadata": {
    "collapsed": true
   },
   "outputs": [],
   "source": [
    "bool1 = True\n",
    "game_list = [0,1,2,3,4,5,6,7,8]"
   ]
  },
  {
   "cell_type": "code",
   "execution_count": 100,
   "metadata": {
    "collapsed": true
   },
   "outputs": [],
   "source": [
    "def draw_board(x,t):\n",
    "    x_or_o = 'x'\n",
    "    x = int(x)\n",
    "    if t == 1:\n",
    "        x_or_o = 'x'\n",
    "    else:\n",
    "        x_or_o = 'o'\n",
    "    if x == 0:\n",
    "        game_list[x] = x_or_o\n",
    "    elif x == 1:\n",
    "        game_list[x] = x_or_o\n",
    "    elif x == 2:\n",
    "        game_list[x] = x_or_o\n",
    "    elif x == 3:\n",
    "        game_list[x] = x_or_o\n",
    "    elif x == 4:\n",
    "        game_list[x] = x_or_o\n",
    "    elif x == 5:\n",
    "        game_list[x] = x_or_o\n",
    "    elif x == 6:\n",
    "        game_list[x] = x_or_o\n",
    "    elif x == 7:\n",
    "        game_list[x] = x_or_o\n",
    "    elif x == 8:\n",
    "        game_list[x] = x_or_o\n",
    "\n",
    "    print(\"{}|{}|{}\\n------\\n{}|{}|{}\\n------\\n{}|{}|{}\".format(game_list[0],game_list[1],game_list[2],game_list[3],\n",
    "                                                                game_list[4],game_list[5],game_list[6],game_list[7],game_list[8],))\n",
    "    print(game_list)\n",
    "    check_win(game_list)\n",
    "    "
   ]
  },
  {
   "cell_type": "code",
   "execution_count": null,
   "metadata": {
    "collapsed": true
   },
   "outputs": [],
   "source": []
  },
  {
   "cell_type": "code",
   "execution_count": 101,
   "metadata": {
    "collapsed": true
   },
   "outputs": [],
   "source": [
    "def check_win(l):\n",
    "    global bool1\n",
    "    bool1 = True\n",
    "    x = 'x'\n",
    "    o = 'o'\n",
    "    # check win for x\n",
    "    if l[0] == l[1] == l[2] == x:\n",
    "        bool1 = False\n",
    "        print (\"Player-X wins!\")\n",
    "    elif l[3] == l[4] == l[5] == x:\n",
    "        bool1 = False\n",
    "        print (\"Player-X wins!\")\n",
    "    elif l[6] == l[7] == l[8] == x:\n",
    "        bool1 = False\n",
    "        print (\"Player-X wins!\")\n",
    "    elif l[0] == l[3] == l[6] == x:\n",
    "        bool1 = False\n",
    "        print (\"Player-X wins!\")\n",
    "    elif l[1] == l[4] == l[7] == x:\n",
    "        bool1 = False\n",
    "        print (\"Player-X wins!\")\n",
    "    elif l[2] == l[5] == l[8] == x:\n",
    "        bool1 = False\n",
    "        print (\"Player-X wins!\")\n",
    "    elif l[0] == l[4] == l[8] == x:\n",
    "        bool1 = False\n",
    "        print (\"Player-X wins!\")\n",
    "    elif l[2] == l[4] == l[6] == x:\n",
    "        bool1 = False\n",
    "        print (\"Player-X wins!\")\n",
    "    # check win for o\n",
    "    if l[0] == l[1] == l[2] == o:\n",
    "        bool1 = False\n",
    "        print (\"Player-O wins!\")\n",
    "    elif l[3] == l[4] == l[5] == o:\n",
    "        bool1 = False\n",
    "        print (\"Player-O wins!\")\n",
    "    elif l[6] == l[7] == l[8] == o:\n",
    "        bool1 = False\n",
    "        print (\"Player-O wins!\")\n",
    "    elif l[0] == l[3] == l[6] == o:\n",
    "        bool1 = False\n",
    "        print (\"Player-O wins!\")\n",
    "    elif l[1] == l[4] == l[7] == o:\n",
    "        bool1 = False\n",
    "        print (\"Player-O wins!\")\n",
    "    elif l[2] == l[5] == l[8] == o:\n",
    "        bool1 = False\n",
    "        print (\"Player-O wins!\")\n",
    "    elif l[0] == l[4] == l[8] == o:\n",
    "        bool1 = False\n",
    "        print (\"Player-O wins!\")\n",
    "    elif l[2] == l[4] == l[6] == o:\n",
    "        bool1 = False\n",
    "        print (\"Player-O wins!\")"
   ]
  },
  {
   "cell_type": "code",
   "execution_count": 102,
   "metadata": {
    "collapsed": true
   },
   "outputs": [],
   "source": [
    "def check_turn(x):\n",
    "    x = int(x)\n",
    "    t = 0\n",
    "    t += 1\n",
    "    if t%2 != 0:\n",
    "        t = 1\n",
    "    else:\n",
    "        t = 0\n",
    "    check_avail(x,t)\n",
    "        "
   ]
  },
  {
   "cell_type": "code",
   "execution_count": 103,
   "metadata": {
    "collapsed": true
   },
   "outputs": [],
   "source": [
    "def check_avail(x,t):\n",
    "    if game_list[x] == 'x' or game_list[x] == 'o':\n",
    "        print(\"Already played, choose different move!\")\n",
    "    else:\n",
    "        draw_board(x,t)"
   ]
  },
  {
   "cell_type": "code",
   "execution_count": 104,
   "metadata": {
    "collapsed": true
   },
   "outputs": [],
   "source": [
    "def reset_list():\n",
    "    global game_list\n",
    "    game_list = [0,1,2,3,4,5,6,7,8]\n",
    "    global bool1\n",
    "    bool1 = True"
   ]
  },
  {
   "cell_type": "code",
   "execution_count": 106,
   "metadata": {},
   "outputs": [
    {
     "name": "stdout",
     "output_type": "stream",
     "text": [
      "Enter number0\n",
      "True\n",
      "Already played, choose different move!\n",
      "Enter number1\n",
      "True\n",
      "Already played, choose different move!\n",
      "Enter number2\n",
      "True\n",
      "x|x|x\n",
      "------\n",
      "x|4|5\n",
      "------\n",
      "6|7|8\n",
      "['x', 'x', 'x', 'x', 4, 5, 6, 7, 8]\n",
      "Player-X wins!\n"
     ]
    }
   ],
   "source": [
    "while bool1:\n",
    "    x = input(\"Enter number\")\n",
    "    print(bool1)\n",
    "    check_turn(x)\n",
    "reset_list()"
   ]
  },
  {
   "cell_type": "markdown",
   "metadata": {},
   "source": []
  },
  {
   "cell_type": "code",
   "execution_count": 39,
   "metadata": {},
   "outputs": [
    {
     "name": "stdout",
     "output_type": "stream",
     "text": [
      "True\n"
     ]
    }
   ],
   "source": [
    "print(bool1)"
   ]
  },
  {
   "cell_type": "code",
   "execution_count": 40,
   "metadata": {},
   "outputs": [
    {
     "name": "stdout",
     "output_type": "stream",
     "text": [
      "[0, 1, 2, 3, 4, 5, 6, 7, 8]\n"
     ]
    }
   ],
   "source": [
    "print(game_list)"
   ]
  },
  {
   "cell_type": "code",
   "execution_count": null,
   "metadata": {
    "collapsed": true
   },
   "outputs": [],
   "source": []
  },
  {
   "cell_type": "code",
   "execution_count": null,
   "metadata": {
    "collapsed": true
   },
   "outputs": [],
   "source": []
  },
  {
   "cell_type": "code",
   "execution_count": null,
   "metadata": {
    "collapsed": true
   },
   "outputs": [],
   "source": []
  }
 ],
 "metadata": {
  "kernelspec": {
   "display_name": "Python 3",
   "language": "python",
   "name": "python3"
  },
  "language_info": {
   "codemirror_mode": {
    "name": "ipython",
    "version": 3
   },
   "file_extension": ".py",
   "mimetype": "text/x-python",
   "name": "python",
   "nbconvert_exporter": "python",
   "pygments_lexer": "ipython3",
   "version": "3.5.4"
  }
 },
 "nbformat": 4,
 "nbformat_minor": 2
}
