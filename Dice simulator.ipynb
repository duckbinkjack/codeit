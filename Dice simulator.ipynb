{
 "cells": [
  {
   "cell_type": "code",
   "execution_count": 49,
   "metadata": {
    "collapsed": true
   },
   "outputs": [],
   "source": [
    "from random import randint\n",
    "bool2 = True"
   ]
  },
  {
   "cell_type": "code",
   "execution_count": 50,
   "metadata": {},
   "outputs": [],
   "source": [
    "def dice(user_num):\n",
    "    global user_fund\n",
    "    x = randint(1,6)\n",
    "    y = user_num\n",
    "    if x == y:\n",
    "        check_funds(True)\n",
    "        print(\"Your guess: {}, Number on the dice: {}\".format(y,x))\n",
    "        print(\"funds remaining: {}\".format(user_fund))\n",
    "    else:\n",
    "        check_funds(False)\n",
    "        print(\"Your guess: {}, Number on the dice: {}\".format(y,x))\n",
    "        print(\"funds remaining: {}\".format(user_fund))"
   ]
  },
  {
   "cell_type": "code",
   "execution_count": 51,
   "metadata": {},
   "outputs": [],
   "source": [
    "def check_funds(bool1):\n",
    "    global user_fund\n",
    "    if bool1:\n",
    "        #add 10 to user funds \n",
    "        user_fund += 10\n",
    "    else:\n",
    "        #deduct 10 from user funds\n",
    "        user_fund -= 10\n",
    "        "
   ]
  },
  {
   "cell_type": "code",
   "execution_count": 57,
   "metadata": {
    "collapsed": true
   },
   "outputs": [],
   "source": [
    "def check_bet(x):\n",
    "    x = int(x)\n",
    "    global user_fund\n",
    "    global bool2\n",
    "    if user_fund > 0:\n",
    "        dice(x)\n",
    "    else:\n",
    "        bool2 = False\n",
    "        print(\"Insufficient funds\")"
   ]
  },
  {
   "cell_type": "code",
   "execution_count": 58,
   "metadata": {},
   "outputs": [
    {
     "name": "stdout",
     "output_type": "stream",
     "text": [
      "Enter your bet: 10\n",
      "Enter your guess: 3\n",
      "Your guess: 3, Number on the dice: 2\n",
      "funds remaining: 0\n",
      "Enter your guess: 4\n",
      "Insufficient funds\n",
      "Fin!\n"
     ]
    }
   ],
   "source": [
    "user_fund = int(input(\"Enter your bet: \"))\n",
    "while bool2:\n",
    "    x = input(\"Enter your guess: \")\n",
    "    check_bet(x)\n",
    "print(\"Fin!\")\n",
    "bool2 = True\n",
    "    "
   ]
  },
  {
   "cell_type": "code",
   "execution_count": null,
   "metadata": {
    "collapsed": true
   },
   "outputs": [],
   "source": []
  }
 ],
 "metadata": {
  "kernelspec": {
   "display_name": "Python 3",
   "language": "python",
   "name": "python3"
  },
  "language_info": {
   "codemirror_mode": {
    "name": "ipython",
    "version": 3
   },
   "file_extension": ".py",
   "mimetype": "text/x-python",
   "name": "python",
   "nbconvert_exporter": "python",
   "pygments_lexer": "ipython3",
   "version": "3.5.4"
  }
 },
 "nbformat": 4,
 "nbformat_minor": 2
}
