{
 "cells": [
  {
   "cell_type": "code",
   "execution_count": null,
   "metadata": {},
   "outputs": [],
   "source": []
  },
  {
   "cell_type": "code",
   "execution_count": 389,
   "metadata": {},
   "outputs": [],
   "source": [
    "def draw_board(x):\n",
    "    x_or_o = 'x'\n",
    "    x = int(x)\n",
    "    if turn == 0:\n",
    "        turn += 1\n",
    "        x_or_o = 'x'\n",
    "    else:\n",
    "        turn -= 1\n",
    "        x_or_o = 'o'\n",
    "    if x == 0:\n",
    "        game_list[x] = x_or_o\n",
    "    elif x == 1:\n",
    "        game_list[x] = x_or_o\n",
    "    elif x == 2:\n",
    "        game_list[x] = x_or_o\n",
    "    elif x == 3:\n",
    "        game_list[x] = x_or_o\n",
    "    elif x == 4:\n",
    "        game_list[x] = x_or_o\n",
    "    elif x == 5:\n",
    "        game_list[x] = x_or_o\n",
    "    elif x == 6:\n",
    "        game_list[x] = x_or_o\n",
    "    elif x == 7:\n",
    "        game_list[x] = x_or_o\n",
    "    elif x == 8:\n",
    "        game_list[x] = x_or_o\n",
    "\n",
    "    print(\"{}|{}|{}\\n------\\n{}|{}|{}\\n------\\n{}|{}|{}\".format(game_list[0],game_list[1],game_list[2],game_list[3],\n",
    "                                                                game_list[4],game_list[5],game_list[6],game_list[7],game_list[8],))\n",
    "    print(game_list)\n",
    "    check_win(game_list)\n",
    "    "
   ]
  },
  {
   "cell_type": "code",
   "execution_count": 390,
   "metadata": {},
   "outputs": [],
   "source": [
    "def check_win(l):\n",
    "    global bool1\n",
    "    bool1 = True\n",
    "    x = 'x'\n",
    "    o = 'o'\n",
    "    # check win for x\n",
    "    if l[0] == l[1] == l[2] == x:\n",
    "        bool1 = False\n",
    "        print (\"Player-X wins!\")\n",
    "    elif l[3] == l[4] == l[5] == x:\n",
    "        bool1 = False\n",
    "        print (\"Player-X wins!\")\n",
    "    elif l[6] == l[7] == l[8] == x:\n",
    "        bool1 = False\n",
    "        print (\"Player-X wins!\")\n",
    "    elif l[0] == l[3] == l[6] == x:\n",
    "        bool1 = False\n",
    "        print (\"Player-X wins!\")\n",
    "    elif l[1] == l[4] == l[7] == x:\n",
    "        bool1 = False\n",
    "        print (\"Player-X wins!\")\n",
    "    elif l[2] == l[5] == l[8] == x:\n",
    "        bool1 = False\n",
    "        print (\"Player-X wins!\")\n",
    "    elif l[0] == l[4] == l[8] == x:\n",
    "        bool1 = False\n",
    "        print (\"Player-X wins!\")\n",
    "    elif l[2] == l[4] == l[6] == x:\n",
    "        bool1 = False\n",
    "        print (\"Player-X wins!\")\n",
    "    # check win for o\n",
    "    if l[0] == l[1] == l[2] == o:\n",
    "        bool1 = False\n",
    "        print (\"Player-O wins!\")\n",
    "    elif l[3] == l[4] == l[5] == o:\n",
    "        bool1 = False\n",
    "        print (\"Player-O wins!\")\n",
    "    elif l[6] == l[7] == l[8] == o:\n",
    "        bool1 = False\n",
    "        print (\"Player-O wins!\")\n",
    "    elif l[0] == l[3] == l[6] == o:\n",
    "        bool1 = False\n",
    "        print (\"Player-O wins!\")\n",
    "    elif l[1] == l[4] == l[7] == o:\n",
    "        bool1 = False\n",
    "        print (\"Player-O wins!\")\n",
    "    elif l[2] == l[5] == l[8] == o:\n",
    "        bool1 = False\n",
    "        print (\"Player-O wins!\")\n",
    "    elif l[0] == l[4] == l[8] == o:\n",
    "        bool1 = False\n",
    "        print (\"Player-O wins!\")\n",
    "    elif l[2] == l[4] == l[6] == o:\n",
    "        bool1 = False\n",
    "        print (\"Player-O wins!\")"
   ]
  },
  {
   "cell_type": "code",
   "execution_count": 391,
   "metadata": {},
   "outputs": [],
   "source": [
    "def check_avail(x):\n",
    "    x = int(x)\n",
    "    if game_list[x] == 'x' or game_list[x] == 'o':\n",
    "        print(\"Already played, choose different move!\")\n",
    "    else:\n",
    "        draw_board(x)"
   ]
  },
  {
   "cell_type": "code",
   "execution_count": 392,
   "metadata": {
    "collapsed": true
   },
   "outputs": [],
   "source": [
    "def reset_list():\n",
    "    global game_list\n",
    "    game_list = [0,1,2,3,4,5,6,7,8]\n",
    "    global bool1\n",
    "    bool1 = True"
   ]
  },
  {
   "cell_type": "code",
   "execution_count": 393,
   "metadata": {},
   "outputs": [
    {
     "name": "stdout",
     "output_type": "stream",
     "text": [
      "Enter number0\n",
      "True\n"
     ]
    },
    {
     "ename": "UnboundLocalError",
     "evalue": "local variable 'turn' referenced before assignment",
     "output_type": "error",
     "traceback": [
      "\u001b[0;31m---------------------------------------------------------------------------\u001b[0m",
      "\u001b[0;31mUnboundLocalError\u001b[0m                         Traceback (most recent call last)",
      "\u001b[0;32m<ipython-input-393-b80b16e49c63>\u001b[0m in \u001b[0;36m<module>\u001b[0;34m()\u001b[0m\n\u001b[1;32m      2\u001b[0m     \u001b[0mx\u001b[0m \u001b[0;34m=\u001b[0m \u001b[0minput\u001b[0m\u001b[0;34m(\u001b[0m\u001b[0;34m\"Enter number\"\u001b[0m\u001b[0;34m)\u001b[0m\u001b[0;34m\u001b[0m\u001b[0m\n\u001b[1;32m      3\u001b[0m     \u001b[0mprint\u001b[0m\u001b[0;34m(\u001b[0m\u001b[0mbool1\u001b[0m\u001b[0;34m)\u001b[0m\u001b[0;34m\u001b[0m\u001b[0m\n\u001b[0;32m----> 4\u001b[0;31m     \u001b[0mcheck_avail\u001b[0m\u001b[0;34m(\u001b[0m\u001b[0mx\u001b[0m\u001b[0;34m)\u001b[0m\u001b[0;34m\u001b[0m\u001b[0m\n\u001b[0m\u001b[1;32m      5\u001b[0m \u001b[0mreset_list\u001b[0m\u001b[0;34m(\u001b[0m\u001b[0;34m)\u001b[0m\u001b[0;34m\u001b[0m\u001b[0m\n",
      "\u001b[0;32m<ipython-input-391-1013bb95236e>\u001b[0m in \u001b[0;36mcheck_avail\u001b[0;34m(x)\u001b[0m\n\u001b[1;32m      4\u001b[0m         \u001b[0mprint\u001b[0m\u001b[0;34m(\u001b[0m\u001b[0;34m\"Already played, choose different move!\"\u001b[0m\u001b[0;34m)\u001b[0m\u001b[0;34m\u001b[0m\u001b[0m\n\u001b[1;32m      5\u001b[0m     \u001b[0;32melse\u001b[0m\u001b[0;34m:\u001b[0m\u001b[0;34m\u001b[0m\u001b[0m\n\u001b[0;32m----> 6\u001b[0;31m         \u001b[0mdraw_board\u001b[0m\u001b[0;34m(\u001b[0m\u001b[0mx\u001b[0m\u001b[0;34m)\u001b[0m\u001b[0;34m\u001b[0m\u001b[0m\n\u001b[0m",
      "\u001b[0;32m<ipython-input-389-9df09fc43351>\u001b[0m in \u001b[0;36mdraw_board\u001b[0;34m(x)\u001b[0m\n\u001b[1;32m      2\u001b[0m     \u001b[0mx_or_o\u001b[0m \u001b[0;34m=\u001b[0m \u001b[0;34m'x'\u001b[0m\u001b[0;34m\u001b[0m\u001b[0m\n\u001b[1;32m      3\u001b[0m     \u001b[0mx\u001b[0m \u001b[0;34m=\u001b[0m \u001b[0mint\u001b[0m\u001b[0;34m(\u001b[0m\u001b[0mx\u001b[0m\u001b[0;34m)\u001b[0m\u001b[0;34m\u001b[0m\u001b[0m\n\u001b[0;32m----> 4\u001b[0;31m     \u001b[0;32mif\u001b[0m \u001b[0mturn\u001b[0m \u001b[0;34m==\u001b[0m \u001b[0;36m0\u001b[0m\u001b[0;34m:\u001b[0m\u001b[0;34m\u001b[0m\u001b[0m\n\u001b[0m\u001b[1;32m      5\u001b[0m         \u001b[0mturn\u001b[0m \u001b[0;34m+=\u001b[0m \u001b[0;36m1\u001b[0m\u001b[0;34m\u001b[0m\u001b[0m\n\u001b[1;32m      6\u001b[0m         \u001b[0mx_or_o\u001b[0m \u001b[0;34m=\u001b[0m \u001b[0;34m'x'\u001b[0m\u001b[0;34m\u001b[0m\u001b[0m\n",
      "\u001b[0;31mUnboundLocalError\u001b[0m: local variable 'turn' referenced before assignment"
     ]
    }
   ],
   "source": [
    "while bool1:\n",
    "    x = input(\"Enter number\")\n",
    "    print(bool1)\n",
    "    check_avail(x)\n",
    "reset_list()"
   ]
  },
  {
   "cell_type": "markdown",
   "metadata": {},
   "source": []
  },
  {
   "cell_type": "code",
   "execution_count": 385,
   "metadata": {},
   "outputs": [
    {
     "name": "stdout",
     "output_type": "stream",
     "text": [
      "True\n"
     ]
    }
   ],
   "source": [
    "print(bool1)"
   ]
  },
  {
   "cell_type": "code",
   "execution_count": 386,
   "metadata": {},
   "outputs": [
    {
     "name": "stdout",
     "output_type": "stream",
     "text": [
      "[0, 1, 2, 3, 4, 5, 6, 7, 8]\n"
     ]
    }
   ],
   "source": [
    "print(game_list)"
   ]
  },
  {
   "cell_type": "code",
   "execution_count": null,
   "metadata": {
    "collapsed": true
   },
   "outputs": [],
   "source": []
  },
  {
   "cell_type": "code",
   "execution_count": null,
   "metadata": {
    "collapsed": true
   },
   "outputs": [],
   "source": []
  },
  {
   "cell_type": "code",
   "execution_count": null,
   "metadata": {
    "collapsed": true
   },
   "outputs": [],
   "source": []
  }
 ],
 "metadata": {
  "kernelspec": {
   "display_name": "Python 3",
   "language": "python",
   "name": "python3"
  },
  "language_info": {
   "codemirror_mode": {
    "name": "ipython",
    "version": 3
   },
   "file_extension": ".py",
   "mimetype": "text/x-python",
   "name": "python",
   "nbconvert_exporter": "python",
   "pygments_lexer": "ipython3",
   "version": "3.5.4"
  }
 },
 "nbformat": 4,
 "nbformat_minor": 2
}
