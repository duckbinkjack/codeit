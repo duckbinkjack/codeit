{
 "cells": [
  {
   "cell_type": "code",
   "execution_count": 226,
   "metadata": {
    "collapsed": true
   },
   "outputs": [],
   "source": [
    "bool1 = True\n",
    "game_list = [0,1,2,3,4,5,6,7,8]\n",
    "turn = 0"
   ]
  },
  {
   "cell_type": "code",
   "execution_count": 227,
   "metadata": {},
   "outputs": [],
   "source": [
    "def draw_board(x):\n",
    "    \n",
    "    global turn\n",
    "    xoo = ''    # The variable is either going to be x or o\n",
    "    if turn == 0:\n",
    "        turn += 1\n",
    "        xoo = 'X'\n",
    "    else:\n",
    "        turn -= 1\n",
    "        xoo = 'O'\n",
    "    \n",
    "    if x == 0:\n",
    "        game_list[0] = xoo\n",
    "    elif x == 1:\n",
    "        game_list[1] = xoo\n",
    "    elif x == 2:\n",
    "        game_list[2] = xoo\n",
    "    elif x == 3:\n",
    "        game_list[3] = xoo\n",
    "    elif x == 4:\n",
    "        game_list[4] = xoo\n",
    "    elif x == 5:\n",
    "        game_list[5] = xoo\n",
    "    elif x == 6:\n",
    "        game_list[6] = xoo\n",
    "    elif x == 7:\n",
    "        game_list[7] = xoo\n",
    "    elif x == 8:\n",
    "        game_list[8] = xoo\n",
    "    print(\"{}|{}|{}\\n------\\n{}|{}|{}\\n------\\n{}|{}|{}\".format(game_list[0],game_list[1],game_list[2],game_list[3],\n",
    "                                                                game_list[4],game_list[5],game_list[6],game_list[7],game_list[8],))\n",
    "    check_win(game_list)\n",
    "    "
   ]
  },
  {
   "cell_type": "code",
   "execution_count": 228,
   "metadata": {
    "scrolled": true
   },
   "outputs": [],
   "source": [
    "def check_win(l): #l = game_list\n",
    "    # Check horizontal win for X\n",
    "    if l[0] == l[1] == l[2] == 'X':\n",
    "        reset_list()\n",
    "        print(\"Player-X wins!\")\n",
    "    if l[3] == l[4] == l[5] == 'X':\n",
    "        reset_list()\n",
    "        print(\"Player-X wins!\")\n",
    "    if l[6] == l[7] == l[8] == 'X':\n",
    "        reset_list()\n",
    "        print(\"Player-X wins!\")\n",
    "    # Check vertical win for X\n",
    "    if l[0] == l[3] == l[6] == 'X':\n",
    "        reset_list()\n",
    "        print(\"Player-X wins!\")\n",
    "    if l[1] == l[4] == l[7] == 'X':\n",
    "        reset_list()\n",
    "        print(\"Player-X wins!\")\n",
    "    if l[2] == l[5] == l[8] == 'X':\n",
    "        reset_list()\n",
    "        print(\"Player-X wins!\")\n",
    "    # Check Diagonal win for X\n",
    "    if l[0] == l[4] == l[8] == 'X':\n",
    "        reset_list()\n",
    "        print(\"Player-X wins!\")\n",
    "    if l[2] == l[4] == l[6] == 'X':\n",
    "        reset_list()\n",
    "        print(\"Player-X wins!\")\n",
    "    # Check horizontal win for O\n",
    "    if l[0] == l[1] == l[2] == 'O':\n",
    "        reset_list()\n",
    "        print(\"Player-O wins!\")\n",
    "    if l[3] == l[4] == l[5] == 'O':\n",
    "        reset_list()\n",
    "        print(\"Player-O wins!\")\n",
    "    if l[6] == l[7] == l[8] == 'O':\n",
    "        reset_list()\n",
    "        print(\"Player-O wins!\")\n",
    "    # Check vertical win for O\n",
    "    if l[0] == l[3] == l[6] == 'O':\n",
    "        reset_list()\n",
    "        print(\"Player-O wins!\")\n",
    "    if l[1] == l[4] == l[7] == 'O':\n",
    "        reset_list()\n",
    "        print(\"Player-O wins!\")\n",
    "    if l[2] == l[5] == l[8] == 'O':\n",
    "        reset_list()\n",
    "        print(\"Player-O wins!\")\n",
    "    # Check Diagonal win for O\n",
    "    if l[0] == l[4] == l[8] == 'O':\n",
    "        reset_list()\n",
    "        print(\"Player-O wins!\")\n",
    "    if l[2] == l[4] == l[6] == 'O':\n",
    "        reset_list()\n",
    "        print(\"Player-O wins!\")\n",
    "    "
   ]
  },
  {
   "cell_type": "code",
   "execution_count": 229,
   "metadata": {
    "collapsed": true
   },
   "outputs": [],
   "source": [
    "def reset_list():\n",
    "    global bool1\n",
    "    bool1 = False\n",
    "    global game_list\n",
    "    game_list = [0,1,2,3,4,5,6,7,8]"
   ]
  },
  {
   "cell_type": "code",
   "execution_count": 230,
   "metadata": {
    "collapsed": true
   },
   "outputs": [],
   "source": [
    "def check_avail(chk):\n",
    "    chk = int(chk)\n",
    "    if game_list[chk] == 'X' or game_list[chk] == 'O':\n",
    "        print(\"Choose a different move!\")\n",
    "    else:\n",
    "        draw_board(chk)"
   ]
  },
  {
   "cell_type": "code",
   "execution_count": 236,
   "metadata": {},
   "outputs": [
    {
     "name": "stdout",
     "output_type": "stream",
     "text": [
      "Enter a no. between 0-80\n",
      "X|1|2\n",
      "------\n",
      "3|4|5\n",
      "------\n",
      "6|7|8\n",
      "Enter a no. between 0-81\n",
      "X|O|2\n",
      "------\n",
      "3|4|5\n",
      "------\n",
      "6|7|8\n",
      "Enter a no. between 0-82\n",
      "X|O|X\n",
      "------\n",
      "3|4|5\n",
      "------\n",
      "6|7|8\n",
      "Enter a no. between 0-84\n",
      "X|O|X\n",
      "------\n",
      "3|O|5\n",
      "------\n",
      "6|7|8\n",
      "Enter a no. between 0-88\n",
      "X|O|X\n",
      "------\n",
      "3|O|5\n",
      "------\n",
      "6|7|X\n",
      "Enter a no. between 0-87\n",
      "X|O|X\n",
      "------\n",
      "3|O|5\n",
      "------\n",
      "6|O|X\n",
      "Player-O wins!\n",
      "Thank you for playing!\n"
     ]
    }
   ],
   "source": [
    "while bool1:\n",
    "    user_input = input(\"Enter a no. between 0-8\")\n",
    "    check_avail(user_input)\n",
    "print(\"Thank you for playing!\")\n",
    "bool1 = True"
   ]
  },
  {
   "cell_type": "code",
   "execution_count": null,
   "metadata": {},
   "outputs": [],
   "source": []
  },
  {
   "cell_type": "code",
   "execution_count": null,
   "metadata": {},
   "outputs": [],
   "source": []
  },
  {
   "cell_type": "code",
   "execution_count": null,
   "metadata": {},
   "outputs": [],
   "source": []
  },
  {
   "cell_type": "code",
   "execution_count": null,
   "metadata": {},
   "outputs": [],
   "source": []
  },
  {
   "cell_type": "code",
   "execution_count": null,
   "metadata": {},
   "outputs": [],
   "source": []
  },
  {
   "cell_type": "code",
   "execution_count": null,
   "metadata": {
    "collapsed": true
   },
   "outputs": [],
   "source": []
  }
 ],
 "metadata": {
  "kernelspec": {
   "display_name": "Python 3",
   "language": "python",
   "name": "python3"
  },
  "language_info": {
   "codemirror_mode": {
    "name": "ipython",
    "version": 3
   },
   "file_extension": ".py",
   "mimetype": "text/x-python",
   "name": "python",
   "nbconvert_exporter": "python",
   "pygments_lexer": "ipython3",
   "version": "3.5.4"
  }
 },
 "nbformat": 4,
 "nbformat_minor": 2
}
